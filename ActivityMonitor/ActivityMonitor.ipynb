{
 "cells": [
  {
   "cell_type": "code",
   "execution_count": 1,
   "metadata": {},
   "outputs": [],
   "source": [
    "import os\n",
    "import numpy as np\n",
    "\n",
    "import tensorflow as tf\n",
    "from matplotlib import pyplot as plt\n",
    "\n",
    "from sklearn.preprocessing import StandardScaler\n",
    "\n",
    "from sklearn.linear_model import LogisticRegression\n",
    "from sklearn.ensemble import RandomForestClassifier\n",
    "from sklearn.metrics import accuracy_score, confusion_matrix , classification_report"
   ]
  },
  {
   "cell_type": "markdown",
   "metadata": {},
   "source": [
    "<snap style=\"color:red\">IMPORTING DONE</snap>"
   ]
  },
  {
   "cell_type": "markdown",
   "metadata": {},
   "source": [
    "<snap style=\"color:green\">SETTING UP VARIABLES </snap>"
   ]
  },
  {
   "cell_type": "code",
   "execution_count": 2,
   "metadata": {},
   "outputs": [],
   "source": [
    "TrainingDirect = os.path.join('Data','training')\n",
    "trainaccnpy = os.path.join(TrainingDirect,'trainACC.npy')\n",
    "traingyronpy = os.path.join(TrainingDirect,'trainGYRO.npy')\n",
    "trainlabelsnpy = os.path.join(TrainingDirect,'trainLABELS.npy')\n"
   ]
  },
  {
   "cell_type": "code",
   "execution_count": 3,
   "metadata": {},
   "outputs": [],
   "source": [
    "TestingDirect = os.path.join('Data' , 'testing')\n",
    "testaccnpy = os.path.join(TestingDirect,'testACC.npy')\n",
    "testgyronpy = os.path.join(TestingDirect,'testGYRO.npy')\n",
    "testlabelsnpy = os.path.join(TestingDirect,'testLABELS.npy')"
   ]
  },
  {
   "cell_type": "markdown",
   "metadata": {},
   "source": [
    "<snap style=\"color:green\"> VARIABLES SET UP COMPLETE </snap>"
   ]
  },
  {
   "cell_type": "markdown",
   "metadata": {},
   "source": [
    "<snap style=\"color:purple\">READING NUMPY FILES AND COMBINING</snap>"
   ]
  },
  {
   "cell_type": "code",
   "execution_count": 4,
   "metadata": {},
   "outputs": [],
   "source": [
    "trainXacc = np.load(trainaccnpy)\n",
    "trainXgyro = np.load(traingyronpy)\n",
    "trainYlabels = np.load(trainlabelsnpy)\n",
    "\n",
    "testXacc= np.load(testaccnpy)\n",
    "testXgyro = np.load(testgyronpy)\n",
    "testYlabels = np.load(testlabelsnpy)"
   ]
  },
  {
   "cell_type": "code",
   "execution_count": 5,
   "metadata": {},
   "outputs": [
    {
     "name": "stdout",
     "output_type": "stream",
     "text": [
      "(90, 268, 6)\n"
     ]
    },
    {
     "data": {
      "text/plain": [
       "(87, 268, 6)"
      ]
     },
     "execution_count": 5,
     "metadata": {},
     "output_type": "execute_result"
    }
   ],
   "source": [
    "#combining acc and gyro variables\n",
    "trainX = np.concatenate([trainXacc,trainXgyro] , axis=2)\n",
    "testX = np.concatenate([testXacc,testXgyro] , axis=2)\n",
    "print(testX.shape)\n",
    "trainX.shape"
   ]
  },
  {
   "cell_type": "markdown",
   "metadata": {},
   "source": [
    "<snap style=\"color:purple\">FILES READ AND COMBINED </snap>"
   ]
  },
  {
   "cell_type": "markdown",
   "metadata": {},
   "source": [
    "<snap style=\"color:white\">NORMALIZIGN AND EXTRACTING FEATURES</snap>"
   ]
  },
  {
   "cell_type": "code",
   "execution_count": 6,
   "metadata": {},
   "outputs": [
    {
     "data": {
      "text/plain": [
       "(23316, 6)"
      ]
     },
     "execution_count": 6,
     "metadata": {},
     "output_type": "execute_result"
    }
   ],
   "source": [
    "trainXreshaped= trainX.reshape(-1,trainX.shape[-1])\n",
    "testXreshaped = testX.reshape(-1,testX.shape[-1])\n",
    "trainXreshaped.shape"
   ]
  },
  {
   "cell_type": "code",
   "execution_count": 7,
   "metadata": {},
   "outputs": [
    {
     "data": {
      "text/plain": [
       "(23316, 6)"
      ]
     },
     "execution_count": 7,
     "metadata": {},
     "output_type": "execute_result"
    }
   ],
   "source": [
    "\n",
    "\n",
    "trainXscaled = StandardScaler().fit_transform(trainXreshaped)\n",
    "testXscaled = StandardScaler().fit_transform(testXreshaped)\n",
    "trainXscaled.shape"
   ]
  },
  {
   "cell_type": "code",
   "execution_count": 8,
   "metadata": {},
   "outputs": [],
   "source": [
    "def Extractor(xyz):\n",
    "    mn=np.mean(xyz,axis=1,)\n",
    "    st=np.std(xyz,axis=1,)\n",
    "    mx=np.max(xyz,axis=1,)\n",
    "    mns=np.min(xyz,axis=1,)\n",
    "    \n",
    "    ext=np.concatenate([mn,st,mx,mns],axis=1)\n",
    "    \n",
    "    return ext\n",
    "    "
   ]
  },
  {
   "cell_type": "code",
   "execution_count": 9,
   "metadata": {},
   "outputs": [
    {
     "data": {
      "text/plain": [
       "(87,)"
      ]
     },
     "execution_count": 9,
     "metadata": {},
     "output_type": "execute_result"
    }
   ],
   "source": [
    "\n",
    "trainXfeatures = Extractor(trainX)\n",
    "testXfeatures = Extractor(testX)\n",
    "\n",
    "trainYlabels.shape"
   ]
  },
  {
   "cell_type": "code",
   "execution_count": 10,
   "metadata": {},
   "outputs": [
    {
     "data": {
      "text/plain": [
       "(87, 24)"
      ]
     },
     "execution_count": 10,
     "metadata": {},
     "output_type": "execute_result"
    }
   ],
   "source": [
    "scaler = StandardScaler()\n",
    "trainXfeaturesscaled =scaler.fit_transform(trainXfeatures)\n",
    "testXfeaturesscaled=scaler.fit_transform(testXfeatures)\n",
    "trainXfeaturesscaled.shape"
   ]
  },
  {
   "cell_type": "code",
   "execution_count": 11,
   "metadata": {},
   "outputs": [
    {
     "data": {
      "text/plain": [
       "(87,)"
      ]
     },
     "execution_count": 11,
     "metadata": {},
     "output_type": "execute_result"
    }
   ],
   "source": [
    "trainYlabels.shape"
   ]
  },
  {
   "cell_type": "markdown",
   "metadata": {},
   "source": [
    "<snap style=\"color=white\">FINISHED NORMALIZING AND EXTRACTING</snap> "
   ]
  },
  {
   "cell_type": "markdown",
   "metadata": {},
   "source": [
    "<snap style=\"color:brown\">APPLYING LOGISTIC REGRESSION</snap>"
   ]
  },
  {
   "cell_type": "code",
   "execution_count": 12,
   "metadata": {},
   "outputs": [
    {
     "data": {
      "text/plain": [
       "(90,)"
      ]
     },
     "execution_count": 12,
     "metadata": {},
     "output_type": "execute_result"
    }
   ],
   "source": [
    "LogReg = LogisticRegression(max_iter=3000)\n",
    "LogReg.fit(trainXfeaturesscaled, trainYlabels)\n",
    "predLogReg = LogReg.predict(testXfeaturesscaled)\n",
    "predLogReg.shape"
   ]
  },
  {
   "cell_type": "markdown",
   "metadata": {},
   "source": [
    "<snap style=\"color:brown\"> LOGICTIC REGRESSION COMPLETED</snap>"
   ]
  },
  {
   "cell_type": "markdown",
   "metadata": {},
   "source": [
    "<snap style=\"color:lightgreen\"> Using Forest Classifier</snap>"
   ]
  },
  {
   "cell_type": "code",
   "execution_count": 13,
   "metadata": {},
   "outputs": [],
   "source": [
    "RanClass = RandomForestClassifier()\n",
    "RanClass.fit(trainXfeaturesscaled, trainYlabels)\n",
    "predRanClass = RanClass.predict(testXfeaturesscaled)"
   ]
  },
  {
   "cell_type": "markdown",
   "metadata": {},
   "source": [
    "<snap style=\"color:lightgreen\">DONE USING FOREST CLASSIFIER</snap>"
   ]
  },
  {
   "cell_type": "markdown",
   "metadata": {},
   "source": [
    "<snap style= \"color:yellow\">GENERATING REPORTS</snap>"
   ]
  },
  {
   "cell_type": "code",
   "execution_count": 14,
   "metadata": {},
   "outputs": [
    {
     "name": "stdout",
     "output_type": "stream",
     "text": [
      "Logistic Regression Accuracy: 0.9888888888888889\n",
      "Confusion Matrix of Logistic Regression : [[47  1]\n",
      " [ 0 42]]\n",
      "\n"
     ]
    }
   ],
   "source": [
    "print(\"Logistic Regression Accuracy:\", accuracy_score(testYlabels, predLogReg))\n",
    "print(\"Confusion Matrix of Logistic Regression :\", confusion_matrix(testYlabels, predLogReg))\n",
    "print()"
   ]
  },
  {
   "cell_type": "code",
   "execution_count": 15,
   "metadata": {},
   "outputs": [
    {
     "name": "stdout",
     "output_type": "stream",
     "text": [
      "Random Forest Classifier Accuracy: 0.9444444444444444\n",
      "Confusion Matrix of Random Forest Classifier : [[47  1]\n",
      " [ 0 42]]\n"
     ]
    }
   ],
   "source": [
    "print(\"Random Forest Classifier Accuracy:\", accuracy_score(testYlabels, predRanClass))\n",
    "print(\"Confusion Matrix of Random Forest Classifier :\", confusion_matrix(testYlabels, predLogReg))"
   ]
  }
 ],
 "metadata": {
  "kernelspec": {
   "display_name": "tf",
   "language": "python",
   "name": "python3"
  },
  "language_info": {
   "codemirror_mode": {
    "name": "ipython",
    "version": 3
   },
   "file_extension": ".py",
   "mimetype": "text/x-python",
   "name": "python",
   "nbconvert_exporter": "python",
   "pygments_lexer": "ipython3",
   "version": "3.11.7"
  }
 },
 "nbformat": 4,
 "nbformat_minor": 2
}
